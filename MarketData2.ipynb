{
 "cells": [
  {
   "attachments": {},
   "cell_type": "markdown",
   "metadata": {},
   "source": [
    "Pull all financial ratios annual"
   ]
  },
  {
   "cell_type": "code",
   "execution_count": 1,
   "metadata": {},
   "outputs": [],
   "source": [
    "import pandas as pd \n",
    "import json\n",
    "\n",
    "from urllib.request import urlopen\n",
    "\n",
    "import json\n",
    "\n",
    "def get_jsonparsed_data(url):\n",
    "    response = urlopen(url)\n",
    "    data = response.read().decode(\"utf-8\")\n",
    "    return json.loads(data)\n",
    "\n",
    "\n",
    "url = (\"https://financialmodelingprep.com/api/v3/ratios/AAPL?limit=40&apikey=       \")\n",
    "Ratios_APPL = get_jsonparsed_data(url)\n",
    "\n",
    "#Convert the JSON object into a pandas DataFrame\n",
    "df = pd.DataFrame(Ratios_APPL)\n",
    "\n",
    "#Save the DataFrame as a CSV file\n",
    "df.to_csv('Ratios_APPL.csv', index=False)"
   ]
  },
  {
   "attachments": {},
   "cell_type": "markdown",
   "metadata": {},
   "source": [
    "Pull all financial ratios for every quarterly"
   ]
  },
  {
   "cell_type": "code",
   "execution_count": 3,
   "metadata": {},
   "outputs": [],
   "source": [
    "import pandas as pd \n",
    "import json\n",
    "\n",
    "from urllib.request import urlopen\n",
    "\n",
    "import json\n",
    "\n",
    "def get_jsonparsed_data(url):\n",
    "    response = urlopen(url)\n",
    "    data = response.read().decode(\"utf-8\")\n",
    "    return json.loads(data)\n",
    "\n",
    "\n",
    "url = (\"https://financialmodelingprep.com/api/v3/ratios/AAPL?period=quarter&limit=140&apikey=       \")\n",
    "Ratios_APPL = get_jsonparsed_data(url)\n",
    "\n",
    "#Convert the JSON object into a pandas DataFrame\n",
    "df = pd.DataFrame(Ratios_APPL)\n",
    "\n",
    "#Save the DataFrame as a CSV file\n",
    "df.to_csv('Quarter_Ratios_APPL2.csv', index=False)"
   ]
  },
  {
   "cell_type": "markdown",
   "metadata": {},
   "source": []
  }
 ],
 "metadata": {
  "kernelspec": {
   "display_name": "base",
   "language": "python",
   "name": "python3"
  },
  "language_info": {
   "codemirror_mode": {
    "name": "ipython",
    "version": 3
   },
   "file_extension": ".py",
   "mimetype": "text/x-python",
   "name": "python",
   "nbconvert_exporter": "python",
   "pygments_lexer": "ipython3",
   "version": "3.9.13"
  },
  "orig_nbformat": 4
 },
 "nbformat": 4,
 "nbformat_minor": 2
}
